{
 "cells": [
  {
   "cell_type": "code",
   "execution_count": 1,
   "id": "fcd1922f",
   "metadata": {},
   "outputs": [],
   "source": [
    "import os\n",
    "import sys\n",
    "import glob\n",
    "import time\n",
    "import yaml\n",
    "import math\n",
    "import torch as t\n",
    "import numpy as np\n",
    "import pandas as pd\n",
    "from torch import nn\n",
    "import multiprocessing\n",
    "from torch.optim import Adam\n",
    "from astropy import units as u\n",
    "from astropy import constants as c\n",
    "from torch.autograd import Variable\n",
    "from scipy.interpolate import interp1d,interp2d"
   ]
  },
  {
   "cell_type": "code",
   "execution_count": 2,
   "id": "0877fce4",
   "metadata": {},
   "outputs": [],
   "source": [
    "def Normalizer(spec,shortwave=6500,longwave=7500):\n",
    "    small=np.argmin(abs(spec[:,0]-shortwave))\n",
    "    long=np.argmin(abs(spec[:,0]-longwave))\n",
    "    if small<long:spec[:,1]=spec[:,1]/np.average(spec[small:long,1])\n",
    "    if small>long:spec[:,1]=spec[:,1]/np.average(spec[long:small,1])\n",
    "    return spec"
   ]
  },
  {
   "cell_type": "code",
   "execution_count": 3,
   "id": "d835223e",
   "metadata": {},
   "outputs": [],
   "source": [
    "def MP(taskid_lst=None, func=None, Nprocs=24):\n",
    "    def worker(taskid_lst, out_q):\n",
    "        outdict={}\n",
    "        for tid in taskid_lst:\n",
    "            outdict[tid]=func(tid)\n",
    "        out_q.put(outdict)\n",
    "    out_q=multiprocessing.Queue()\n",
    "    chunksize=int(math.ceil(len(taskid_lst)/float(Nprocs)))\n",
    "    procs=[]\n",
    "    for i in range(Nprocs):\n",
    "        p=multiprocessing.Process(target=worker,\\\n",
    "        args=(taskid_lst[chunksize*i:chunksize*(i+1)],out_q))\n",
    "        procs.append(p)\n",
    "        p.start()\n",
    "    resultdict = {}\n",
    "    for i in range(Nprocs):\n",
    "        resultdict.update(out_q.get())\n",
    "    for p in procs:\n",
    "        p.join()\n",
    "    return resultdict"
   ]
  },
  {
   "cell_type": "code",
   "execution_count": 4,
   "id": "f10e44c8",
   "metadata": {},
   "outputs": [
    {
     "name": "stderr",
     "output_type": "stream",
     "text": [
      "WARNING: UnitsWarning: 'erg/cm^2/K^4/s' contains multiple slashes, which is discouraged by the FITS standard [astropy.units.format.generic]\n"
     ]
    }
   ],
   "source": [
    "sigmaT=c.sigma_T.to('cm^2').value #thompson cross section in cm^2\n",
    "cli=c.c.to('cm/s').value #speed of light in meter/second\n",
    "kbc=c.k_B.to('erg/K').value\n",
    "hli=c.h.to('erg*s').value\n",
    "mele=c.m_e.to('g').value\n",
    "stfBlz=c.sigma_sb.to('erg/cm^2/K^4/s').value #stefan boltzmann constant. \n",
    "secondsInADay=(1*u.day).to('s').value\n",
    "v2d07e16=1/2*(hli**2/2/np.pi/kbc/mele)**(3/2)\n",
    "oneEv=(1*u.eV).to('erg').value"
   ]
  },
  {
   "cell_type": "code",
   "execution_count": 5,
   "id": "62625b58",
   "metadata": {},
   "outputs": [],
   "source": [
    "def yamlReaderFunc(yamlName):\n",
    "    global ModelSaver,linesFile,levelFile,lineWide,veloMin,veloMax,expTime,densDataType,elemDataType,extraEngType\n",
    "    with open(yamlName,'r') as reader:\n",
    "        howToRun=yaml.safe_load(reader)\n",
    "    ModelSaver=howToRun['files']['save_dir']\n",
    "    linesFile=howToRun['files']['line_file']\n",
    "    levelFile=howToRun['files']['level_file']\n",
    "    lineWide=float(howToRun['material']['lines']['line_wide'])\n",
    "    veloMin=float(howToRun['material']['velocity']['min'])*cli\n",
    "    veloMax=float(howToRun['material']['velocity']['max'])*cli\n",
    "    expTime=float(howToRun['material']['density']['exp_time'])*secondsInADay\n",
    "    \n",
    "    densDataType=howToRun['material']['density']['data_type']\n",
    "    global densT0,densFile,densData,veloData,radiData,dSlope,N0,V0,R0\n",
    "    if densDataType=='file':\n",
    "        densT0=float(howToRun['material']['density']['t_0'])\n",
    "        densFile=howToRun['material']['density']['file_name']\n",
    "        densData=np.loadtxt(densFile)\n",
    "        veloData=densData[:,0]*100000#Convert from km/s to cm/s. \n",
    "        densData=densData[:,1]*(densT0/expTime)**3\n",
    "        if veloMax>=veloData.max():\n",
    "            print('Gesa Warning: The upper boundary is too high. ')\n",
    "            veloMax=veloData.max()\n",
    "        if veloMin<=veloData.min():\n",
    "            print('Gesa Error: The lower boundary is too low. ')\n",
    "            assert False\n",
    "        radiData=veloData*expTime\n",
    "    elif densDataType=='power_law':\n",
    "        dSlope=float(howToRun['material']['density']['slope'])\n",
    "        N0=float(howToRun['material']['density']['pivot_dens'])\n",
    "        V0=float(howToRun['material']['density']['pivot_velo'])*cli\n",
    "        R0=V0*expTime\n",
    "    \n",
    "    elemDataType=howToRun['material']['element']['data_type']\n",
    "    global elemFile,elemData,veloForElem,radiForElem,maxElem,elemSum,elemList\n",
    "    if elemDataType=='file':\n",
    "        elemFile=howToRun['material']['element']['file_name']\n",
    "        elemData=np.loadtxt(elemFile)\n",
    "        veloForElem=elemData[:,0]*100000\n",
    "        radiForElem=veloForElem*expTime\n",
    "        elemData=elemData[:,1:]\n",
    "        maxElem=elemData.shape[1]\n",
    "        elemSum=elemData.sum(axis=0)\n",
    "    elif elemDataType=='one_zone':\n",
    "        elemList=t.tensor(np.array(howToRun['material']['element']['number_ratio'])).cuda()\n",
    "        maxElem=len(elemList)\n",
    "        elemSum=elemList\n",
    "    \n",
    "    extraEngType=howToRun['material']['extra_energy']['data_type']\n",
    "    global extraBounFile,extraSourFile,extraBounVal,extraSourVal,exBounData,exSourData,exEnVelo,exEnRadi,exEnData\n",
    "    if extraEngType=='file':\n",
    "        extraBounFile=howToRun['material']['extra_energy']['boun_file']\n",
    "        extraSourFile=howToRun['material']['extra_energy']['source_file']\n",
    "        extraBounVal=howToRun['material']['extra_energy']['boun_value']\n",
    "        extraSourVal=howToRun['material']['extra_energy']['source_value']\n",
    "        exBounData=np.loadtxt(extraBounFile)\n",
    "        exSourData=np.loadtxt(extraSourFile)\n",
    "        exEnVelo=exBounData[:,0]*100000\n",
    "        exEnRadi=exEnVelo*expTime\n",
    "        exEnData=exBounData[:,1]*extraBounVal+exSourData[:,1]*extraSourVal\n",
    "        exEnData[exEnData<0]=0\n",
    "    elif extraEngType=='zero':\n",
    "        print('Gesa Info: There is no extra energy other than the boundary condition. ')\n",
    "    \n",
    "    global lineLimit,allowShrink,BBBoun,freqMinLog,freqMaxLog,freqSampler,learnRateSchedule,pdeWeight,bo1Weight,bo2Weight,tinyEpochNum,tempMultiRate,zmin,zmax\n",
    "    lineLimit=float(howToRun['material']['lines']['line_limit'])\n",
    "    allowShrink=howToRun['material']['lines']['allow_shrink']\n",
    "    BBBoun=float(howToRun['boundary']['T_inner'])\n",
    "    freqMinLog=float(howToRun['boundary']['freq_min'])\n",
    "    freqMaxLog=float(howToRun['boundary']['freq_max'])\n",
    "    freqSampler=int(howToRun['boundary']['freq_sample'])\n",
    "    learnRateSchedule=np.array(howToRun['train']['rate_list'])\n",
    "    pdeWeight=float(howToRun['train']['pde_weight'])\n",
    "    bo1Weight=float(howToRun['train']['boun1_weight'])\n",
    "    bo2Weight=float(howToRun['train']['boun2_weight'])\n",
    "    tinyEpochNum=int(howToRun['train']['tiny_epoch'])\n",
    "    tempMultiRate=float(howToRun['train']['temp_rate'])\n",
    "    zmin=expTime*veloMin\n",
    "    zmax=expTime*veloMax\n",
    "    \n",
    "    global l1Norm\n",
    "    try:l1Norm=howToRun['train']['l1_norm']\n",
    "    except:print('l1 Norm is not defined')\n",
    "    return"
   ]
  },
  {
   "cell_type": "code",
   "execution_count": 10,
   "id": "8ee517e1",
   "metadata": {},
   "outputs": [],
   "source": [
    "yamlReaderFunc('N14_Model/runner.yml')\n",
    "ModelSaver='N14_Model/Saved/'"
   ]
  },
  {
   "cell_type": "code",
   "execution_count": 11,
   "id": "686fec37",
   "metadata": {},
   "outputs": [],
   "source": [
    "def BBSpec(freqHz,BBBoun=BBBoun):\n",
    "    return 2*hli*freqHz**3/cli**2/(np.e**(hli*freqHz/kbc/BBBoun)-1)\n",
    "freqGrid=np.linspace(freqMinLog,freqMaxLog,num=freqSampler)\n",
    "freqGrid=10**freqGrid\n",
    "freqGrid=t.tensor(freqGrid).cuda()\n",
    "freqWidth=freqGrid*np.log(10)*(freqMaxLog-freqMinLog)/freqSampler\n",
    "freqGridCpu=freqGrid.cpu()\n",
    "freqWidthCpu=freqWidth.cpu()\n",
    "intenMax=BBSpec(freqGrid).max()\n",
    "tempMax=BBBoun\n",
    "threeDimStep=200"
   ]
  },
  {
   "cell_type": "code",
   "execution_count": 16,
   "id": "0c264a9a",
   "metadata": {},
   "outputs": [],
   "source": [
    "collBatch=1500\n",
    "bounBatch=1500\n",
    "sourSubBa=1500\n",
    "tempBatch=200\n",
    "batchNum=200\n",
    "epochNum=10"
   ]
  },
  {
   "cell_type": "code",
   "execution_count": 17,
   "id": "673a98e1",
   "metadata": {},
   "outputs": [],
   "source": [
    "class IntenW(nn.Module):\n",
    "    def __init__(self):\n",
    "        super(IntenW, self).__init__()\n",
    "        self.fc1=nn.Linear(2,256)\n",
    "        self.fc2=nn.Linear(256,256)\n",
    "        self.fc3=nn.Linear(256,256)\n",
    "        self.fc4=nn.Linear(256,256)\n",
    "        self.fc5=nn.Linear(256,256)\n",
    "        self.fc6=nn.Linear(256,512)\n",
    "        self.fc7=nn.Linear(512,512)\n",
    "        self.fc8=nn.Linear(512,512)\n",
    "        self.fc9=nn.Linear(512,512)\n",
    "        self.fc10=nn.Linear(512,512)\n",
    "        self.fc11=nn.Linear(512,2048)\n",
    "        self.fc12=nn.Linear(2048,2048)\n",
    "        self.fc13=nn.Linear(2048,2048)\n",
    "        self.fc14=nn.Linear(2048,freqSampler)\n",
    "    def forward(self,Xin):\n",
    "        self.Xin=Xin\n",
    "        self.out1=self.fc1(Xin)\n",
    "        self.out2=self.fc2(nn.Tanh()(self.out1))\n",
    "        self.out3=self.fc3(nn.Tanh()(self.out2))\n",
    "        self.out4=self.fc4(nn.Tanh()(self.out3))\n",
    "        self.out5=self.fc5(nn.Tanh()(self.out4))\n",
    "        self.out6=self.fc6(nn.Tanh()(self.out5))\n",
    "        self.out7=self.fc7(nn.Tanh()(self.out6))\n",
    "        self.out8=self.fc8(nn.Tanh()(self.out7))\n",
    "        self.out9=self.fc9(nn.Tanh()(self.out8))\n",
    "        self.out10=self.fc10(nn.Tanh()(self.out9))\n",
    "        self.out11=self.fc11(nn.Tanh()(self.out10))\n",
    "        self.out12=self.fc12(nn.Tanh()(self.out11))\n",
    "        self.out13=self.fc13(nn.Tanh()(self.out12))\n",
    "        self.out14=self.fc14(nn.Tanh()(self.out13))\n",
    "        return self.out14\n",
    "    def partialInput(self):\n",
    "        pout=t.cosh(t.unsqueeze(self.out1,2))**-2*(self.fc1.weight)\n",
    "        pout=t.cosh(t.unsqueeze(self.out2,2))**-2*(self.fc2.weight@pout)\n",
    "        pout=t.cosh(t.unsqueeze(self.out3,2))**-2*(self.fc3.weight@pout)\n",
    "        pout=t.cosh(t.unsqueeze(self.out4,2))**-2*(self.fc4.weight@pout)\n",
    "        pout=t.cosh(t.unsqueeze(self.out5,2))**-2*(self.fc5.weight@pout)\n",
    "        pout=t.cosh(t.unsqueeze(self.out6,2))**-2*(self.fc6.weight@pout)\n",
    "        pout=t.cosh(t.unsqueeze(self.out7,2))**-2*(self.fc7.weight@pout)\n",
    "        pout=t.cosh(t.unsqueeze(self.out8,2))**-2*(self.fc8.weight@pout)\n",
    "        pout=t.cosh(t.unsqueeze(self.out9,2))**-2*(self.fc9.weight@pout)\n",
    "        pout=t.cosh(t.unsqueeze(self.out10,2))**-2*(self.fc10.weight@pout)\n",
    "        pout=t.cosh(t.unsqueeze(self.out11,2))**-2*(self.fc11.weight@pout)\n",
    "        pout=t.cosh(t.unsqueeze(self.out12,2))**-2*(self.fc12.weight@pout)\n",
    "        pout=t.cosh(t.unsqueeze(self.out13,2))**-2*(self.fc13.weight@pout)\n",
    "        pout=self.fc14.weight@pout\n",
    "        return pout\n",
    "IntenWNetFo14=IntenW().double().cuda()\n",
    "IntenWNetBa14=IntenW().double().cuda()"
   ]
  },
  {
   "cell_type": "code",
   "execution_count": 18,
   "id": "92134a70",
   "metadata": {},
   "outputs": [],
   "source": [
    "import matplotlib.pyplot as plt\n",
    "plt.style.use('default')"
   ]
  },
  {
   "cell_type": "code",
   "execution_count": 24,
   "id": "86b26f1c",
   "metadata": {},
   "outputs": [],
   "source": [
    "leapSpec=np.loadtxt('FormalSolutionOptical.txt')\n",
    "leapSpec=Normalizer(leapSpec)"
   ]
  },
  {
   "cell_type": "code",
   "execution_count": 34,
   "id": "f08d71b5",
   "metadata": {},
   "outputs": [
    {
     "data": {
      "text/plain": [
       "Text(3968, 7.7, 'Ca K&H \\n3934$\\\\AA$\\n3968$\\\\AA$')"
      ]
     },
     "execution_count": 34,
     "metadata": {},
     "output_type": "execute_result"
    },
    {
     "data": {
      "image/png": "[encoded data removed]",
      "text/plain": [
       "<Figure size 800x600 with 1 Axes>"
      ]
     },
     "metadata": {},
     "output_type": "display_data"
    }
   ],
   "source": [
    "ztp=np.zeros([400,2])\n",
    "ztp[:,0]=1\n",
    "phiGrid=np.linspace(0,np.pi/2,num=400)\n",
    "ztp[:,1]=phiGrid.flatten()\n",
    "ztp=t.tensor(ztp).cuda()\n",
    "freqPlot=freqGrid.cpu().detach().numpy()\n",
    "zRadi=ztp[:,[0]]*(zmax-zmin)+zmin\n",
    "touchBoun=((zRadi*t.sin(ztp[:,[1]]))<zmin)&(ztp[:,[1]]<np.pi/2)\n",
    "\n",
    "yamlReaderFunc('N14_Model/runner.yml')\n",
    "ModelSaver='N14_Model/Saved/'\n",
    "IntenWNetFo14.load_state_dict(t.load(ModelSaver+'CurrentIntenForward.to'))\n",
    "IntenWNetBa14.load_state_dict(t.load(ModelSaver+'CurrentIntenBackward.to'))\n",
    "intenOut=(IntenWNetFo14(ztp)*touchBoun+IntenWNetBa14(ztp)*(1-1*touchBoun))\n",
    "\n",
    "intePlot=t.mean(intenOut*t.cos(ztp[:,[1]])*t.sin(ztp[:,[1]]),axis=0)*(intenMax)\n",
    "intePlot=intePlot.cpu().detach().numpy()\n",
    "intePlot=intePlot*freqPlot**2/cli\n",
    "inteSpec=np.array([cli/freqPlot*1e8,intePlot]).T\n",
    "inteSpec=Normalizer(inteSpec)\n",
    "plt.plot(inteSpec[:,0],inteSpec[:,1],linewidth=1,label='PINN N14',c='red')\n",
    "\n",
    "plt.plot(leapSpec[:,0],leapSpec[:,1],linewidth=2,label='Formal Solution',c='orange')\n",
    "\n",
    "plt.gcf().set_size_inches(8,6)\n",
    "plt.xlim(2000,12000)\n",
    "plt.ylim(0.1,8.7)\n",
    "plt.xscale('log')\n",
    "\n",
    "plt.xlabel(r'Wavelength ($\\mathrm{\\AA}$)')\n",
    "plt.ylabel('Intensity')\n",
    "plt.legend()\n",
    "\n",
    "plt.plot([8498,8498],[0,5.3],linestyle='--',c='magenta')\n",
    "plt.plot([8542,8542],[0,5.3],linestyle='--',c='magenta')\n",
    "plt.plot([8662,8662],[0,5.3],linestyle='--',c='magenta')\n",
    "plt.text(8662,4,'Ca II \\n8498$\\AA$\\n8542$\\AA$\\n8662$\\AA$')\n",
    "plt.plot([6355,6355],[0,5.7],linestyle='--',c='magenta')\n",
    "plt.text(6355,5,'Si II \\n6355$\\AA$')\n",
    "plt.plot([5468,5468],[0,7],linestyle='--',c='magenta')\n",
    "plt.plot([5640,5640],[0,7],linestyle='--',c='magenta')\n",
    "plt.text(5640,6,'S II \\n5468$\\AA$\\n5640$\\AA$')\n",
    "plt.plot([3934,3934],[0,9.7],linestyle='--',c='magenta')\n",
    "plt.plot([3968,3968],[0,9.7],linestyle='--',c='magenta')\n",
    "plt.text(3968,7.7,'Ca K&H \\n3934$\\AA$\\n3968$\\AA$')"
   ]
  },
  {
   "cell_type": "code",
   "execution_count": null,
   "id": "ba6fd225",
   "metadata": {},
   "outputs": [],
   "source": []
  },
  {
   "cell_type": "code",
   "execution_count": null,
   "id": "8f06ffa3",
   "metadata": {},
   "outputs": [],
   "source": []
  },
  {
   "cell_type": "code",
   "execution_count": null,
   "id": "687a69a9",
   "metadata": {},
   "outputs": [],
   "source": []
  },
  {
   "cell_type": "code",
   "execution_count": null,
   "id": "6a8786a7",
   "metadata": {},
   "outputs": [],
   "source": []
  },
  {
   "cell_type": "code",
   "execution_count": null,
   "id": "d610b6f2",
   "metadata": {},
   "outputs": [],
   "source": []
  },
  {
   "cell_type": "code",
   "execution_count": null,
   "id": "a5d6b5e7",
   "metadata": {},
   "outputs": [],
   "source": []
  },
  {
   "cell_type": "code",
   "execution_count": null,
   "id": "2565d9c7",
   "metadata": {},
   "outputs": [],
   "source": []
  },
  {
   "cell_type": "code",
   "execution_count": null,
   "id": "02f6327a",
   "metadata": {},
   "outputs": [],
   "source": []
  },
  {
   "cell_type": "code",
   "execution_count": null,
   "id": "f9bbacd9",
   "metadata": {},
   "outputs": [],
   "source": []
  },
  {
   "cell_type": "code",
   "execution_count": null,
   "id": "2aab786c",
   "metadata": {},
   "outputs": [],
   "source": []
  },
  {
   "cell_type": "code",
   "execution_count": null,
   "id": "e09b6057",
   "metadata": {},
   "outputs": [],
   "source": []
  },
  {
   "cell_type": "code",
   "execution_count": null,
   "id": "c083b16f",
   "metadata": {},
   "outputs": [],
   "source": []
  },
  {
   "cell_type": "code",
   "execution_count": null,
   "id": "1172e60c",
   "metadata": {},
   "outputs": [],
   "source": []
  },
  {
   "cell_type": "code",
   "execution_count": null,
   "id": "fe60dc0a",
   "metadata": {},
   "outputs": [],
   "source": []
  },
  {
   "cell_type": "code",
   "execution_count": null,
   "id": "c343ec1f",
   "metadata": {},
   "outputs": [],
   "source": []
  },
  {
   "cell_type": "code",
   "execution_count": null,
   "id": "4f69a107",
   "metadata": {},
   "outputs": [],
   "source": []
  },
  {
   "cell_type": "code",
   "execution_count": null,
   "id": "a7564c15",
   "metadata": {},
   "outputs": [],
   "source": []
  },
  {
   "cell_type": "code",
   "execution_count": null,
   "id": "e6464f0d",
   "metadata": {},
   "outputs": [],
   "source": []
  },
  {
   "cell_type": "code",
   "execution_count": null,
   "id": "8e24a939",
   "metadata": {},
   "outputs": [],
   "source": []
  },
  {
   "cell_type": "code",
   "execution_count": null,
   "id": "94717524",
   "metadata": {},
   "outputs": [],
   "source": []
  },
  {
   "cell_type": "code",
   "execution_count": null,
   "id": "9d8041a4",
   "metadata": {},
   "outputs": [],
   "source": []
  },
  {
   "cell_type": "code",
   "execution_count": null,
   "id": "08d8bdf0",
   "metadata": {},
   "outputs": [],
   "source": []
  },
  {
   "cell_type": "code",
   "execution_count": null,
   "id": "32b45bfe",
   "metadata": {},
   "outputs": [],
   "source": []
  },
  {
   "cell_type": "code",
   "execution_count": null,
   "id": "c5ea8adb",
   "metadata": {},
   "outputs": [],
   "source": []
  },
  {
   "cell_type": "code",
   "execution_count": null,
   "id": "8db9368d",
   "metadata": {},
   "outputs": [],
   "source": []
  },
  {
   "cell_type": "code",
   "execution_count": null,
   "id": "ffbee656",
   "metadata": {},
   "outputs": [],
   "source": []
  }
 ],
 "metadata": {
  "kernelspec": {
   "display_name": "Python [conda env:.conda-pytorch] *",
   "language": "python",
   "name": "conda-env-.conda-pytorch-py"
  },
  "language_info": {
   "codemirror_mode": {
    "name": "ipython",
    "version": 3
   },
   "file_extension": ".py",
   "mimetype": "text/x-python",
   "name": "python",
   "nbconvert_exporter": "python",
   "pygments_lexer": "ipython3",
   "version": "3.8.0"
  }
 },
 "nbformat": 4,
 "nbformat_minor": 5
}
